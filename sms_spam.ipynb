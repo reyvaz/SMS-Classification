{
 "cells": [
  {
   "cell_type": "markdown",
   "metadata": {
    "collapsed": true
   },
   "source": [
    "# SMS Spam Classification\n",
    "***Reynaldo Vazquez***  \n",
    "***November 16, 2017***\n",
    "\n",
    "[GitHub Repository](https://github.com/reyvaz/SMS-Classification)\n",
    "\n",
    "## Tests different classification algorithms to detect spam in SMS messages\n",
    "\n",
    "\n",
    "Different specifications of Naïve-Bayes, Logistic-Regression, and Support Vector Machine models with varying features' complexity are tested in order to classify SMS (text) messages as spam or legitimate (ham). \n",
    "\n",
    "The dataset contains 5,574 SMS messages in English, tagged according to being ham or spam. It was downloaded from [Kaggle](https://www.kaggle.com/uciml/sms-spam-collection-dataset) on November 15, 2017, and can also be found at the [UCI](https://archive.ics.uci.edu/ml/datasets/SMS+Spam+Collection) Machine Learning Repository. Acknowledgements to Tiago A. Almeida and José María Gómez Hidalgo, creators of the original dataset. More information can be found [here](http://www.dt.fee.unicamp.br/~tiago/smsspamcollection/).\n",
    "\n",
    "Due to the nature of the problem, it is important to avoid misclassification of legitimate messages as spam. i.e. it would be preferable to let some spam to be misclassified as legitimate than the other way around. Thus, special attention is placed on the precision  metric at determining best model performance, although accuracy, recall, and area under the ROC curve are also considered. \n",
    "\n",
    "The best performing algorithms are a Naïve-Bayes specification (MultinomialNB) on the entire training dataset dictionary with alpha parameter 0.1. And a Support Vector Machine (SVM) specification on 2 to 5 character ngrams, plus 3 additional features regarding type and length of character content and C parameter 1000.\n",
    "\n",
    "```\n",
    "                           Param  Accuracy    Recall  Precision   ROC AUC\n",
    "MultinomialNB        alpha = 0.1  0.992103  0.944162   1.000000  0.972081\n",
    "SVC                     C = 1000  0.993539  0.959391   0.994737  0.979277\n",
    "```\n",
    "\n",
    "The Naïve-Bayes specification is slightly superior in terms simplicity, speed, and better precision on the test dataset. While the SVC specification performs slightly better in all of the other metrics."
   ]
  },
  {
   "cell_type": "markdown",
   "metadata": {},
   "source": [
    "### Importing the dataset"
   ]
  },
  {
   "cell_type": "code",
   "execution_count": 1,
   "metadata": {},
   "outputs": [
    {
     "name": "stdout",
     "output_type": "stream",
     "text": [
      "\n",
      "Dataset shape:  (5572, 2)\n"
     ]
    },
    {
     "data": {
      "text/html": [
       "<div>\n",
       "<style scoped>\n",
       "    .dataframe tbody tr th:only-of-type {\n",
       "        vertical-align: middle;\n",
       "    }\n",
       "\n",
       "    .dataframe tbody tr th {\n",
       "        vertical-align: top;\n",
       "    }\n",
       "\n",
       "    .dataframe thead th {\n",
       "        text-align: right;\n",
       "    }\n",
       "</style>\n",
       "<table border=\"1\" class=\"dataframe\">\n",
       "  <thead>\n",
       "    <tr style=\"text-align: right;\">\n",
       "      <th></th>\n",
       "      <th>target</th>\n",
       "      <th>text</th>\n",
       "    </tr>\n",
       "  </thead>\n",
       "  <tbody>\n",
       "    <tr>\n",
       "      <th>0</th>\n",
       "      <td>ham</td>\n",
       "      <td>Go until jurong point, crazy.. Available only in bugis n great world la e buffet... Cine there got amore wat...</td>\n",
       "    </tr>\n",
       "    <tr>\n",
       "      <th>1</th>\n",
       "      <td>ham</td>\n",
       "      <td>Ok lar... Joking wif u oni...</td>\n",
       "    </tr>\n",
       "    <tr>\n",
       "      <th>2</th>\n",
       "      <td>spam</td>\n",
       "      <td>Free entry in 2 a wkly comp to win FA Cup final tkts 21st May 2005. Text FA to 87121 to receive entry question(std t...</td>\n",
       "    </tr>\n",
       "    <tr>\n",
       "      <th>3</th>\n",
       "      <td>ham</td>\n",
       "      <td>U dun say so early hor... U c already then say...</td>\n",
       "    </tr>\n",
       "    <tr>\n",
       "      <th>4</th>\n",
       "      <td>ham</td>\n",
       "      <td>Nah I don't think he goes to usf, he lives around here though</td>\n",
       "    </tr>\n",
       "  </tbody>\n",
       "</table>\n",
       "</div>"
      ],
      "text/plain": [
       "  target  \\\n",
       "0    ham   \n",
       "1    ham   \n",
       "2   spam   \n",
       "3    ham   \n",
       "4    ham   \n",
       "\n",
       "                                                                                                                      text  \n",
       "0          Go until jurong point, crazy.. Available only in bugis n great world la e buffet... Cine there got amore wat...  \n",
       "1                                                                                            Ok lar... Joking wif u oni...  \n",
       "2  Free entry in 2 a wkly comp to win FA Cup final tkts 21st May 2005. Text FA to 87121 to receive entry question(std t...  \n",
       "3                                                                        U dun say so early hor... U c already then say...  \n",
       "4                                                            Nah I don't think he goes to usf, he lives around here though  "
      ]
     },
     "execution_count": 1,
     "metadata": {},
     "output_type": "execute_result"
    }
   ],
   "source": [
    "import pandas as pd\n",
    "import numpy as np\n",
    "df = pd.read_csv('spam.csv', encoding='latin-1', header=0, \n",
    "                 names = ['target', 'text'], usecols = [0, 1])\n",
    "pd.set_option('display.max_colwidth', 120)\n",
    "print('\\nDataset shape: ', df.shape)\n",
    "df.head()"
   ]
  },
  {
   "cell_type": "markdown",
   "metadata": {},
   "source": [
    "### Transform target variable to dummy"
   ]
  },
  {
   "cell_type": "code",
   "execution_count": 2,
   "metadata": {},
   "outputs": [
    {
     "data": {
      "text/html": [
       "<div>\n",
       "<style scoped>\n",
       "    .dataframe tbody tr th:only-of-type {\n",
       "        vertical-align: middle;\n",
       "    }\n",
       "\n",
       "    .dataframe tbody tr th {\n",
       "        vertical-align: top;\n",
       "    }\n",
       "\n",
       "    .dataframe thead th {\n",
       "        text-align: right;\n",
       "    }\n",
       "</style>\n",
       "<table border=\"1\" class=\"dataframe\">\n",
       "  <thead>\n",
       "    <tr style=\"text-align: right;\">\n",
       "      <th></th>\n",
       "      <th>target</th>\n",
       "      <th>text</th>\n",
       "    </tr>\n",
       "  </thead>\n",
       "  <tbody>\n",
       "    <tr>\n",
       "      <th>2380</th>\n",
       "      <td>0</td>\n",
       "      <td>If i let you do this, i want you in the house by 8am.</td>\n",
       "    </tr>\n",
       "    <tr>\n",
       "      <th>1373</th>\n",
       "      <td>1</td>\n",
       "      <td>Bears Pic Nick, and Tom, Pete and ... Dick. In fact, all types try gay chat with photo upload call 08718730666 (10p/...</td>\n",
       "    </tr>\n",
       "    <tr>\n",
       "      <th>3057</th>\n",
       "      <td>1</td>\n",
       "      <td>You are now unsubscribed all services. Get tons of sexy babes or hunks straight to your phone! go to http://gotbabes...</td>\n",
       "    </tr>\n",
       "    <tr>\n",
       "      <th>2904</th>\n",
       "      <td>0</td>\n",
       "      <td>Ha. You donÛ÷t know either. I did a a clever but simple thing with pears the other day, perfect for christmas.</td>\n",
       "    </tr>\n",
       "    <tr>\n",
       "      <th>2126</th>\n",
       "      <td>0</td>\n",
       "      <td>You do got a shitload of diamonds though</td>\n",
       "    </tr>\n",
       "    <tr>\n",
       "      <th>2359</th>\n",
       "      <td>1</td>\n",
       "      <td>Spook up your mob with a Halloween collection of a logo &amp; pic message plus a free eerie tone, txt CARD SPOOK to 8007...</td>\n",
       "    </tr>\n",
       "    <tr>\n",
       "      <th>4677</th>\n",
       "      <td>0</td>\n",
       "      <td>It is a good thing I'm now getting the connection to bw</td>\n",
       "    </tr>\n",
       "    <tr>\n",
       "      <th>383</th>\n",
       "      <td>0</td>\n",
       "      <td>Hey i will be late ah... Meet you at 945+</td>\n",
       "    </tr>\n",
       "    <tr>\n",
       "      <th>5441</th>\n",
       "      <td>0</td>\n",
       "      <td>By the way, make sure u get train to worc foregate street not shrub hill. Have fun night x</td>\n",
       "    </tr>\n",
       "    <tr>\n",
       "      <th>210</th>\n",
       "      <td>0</td>\n",
       "      <td>What's up bruv, hope you had a great break. Do have a rewarding semester.</td>\n",
       "    </tr>\n",
       "  </tbody>\n",
       "</table>\n",
       "</div>"
      ],
      "text/plain": [
       "      target  \\\n",
       "2380       0   \n",
       "1373       1   \n",
       "3057       1   \n",
       "2904       0   \n",
       "2126       0   \n",
       "2359       1   \n",
       "4677       0   \n",
       "383        0   \n",
       "5441       0   \n",
       "210        0   \n",
       "\n",
       "                                                                                                                         text  \n",
       "2380                                                                    If i let you do this, i want you in the house by 8am.  \n",
       "1373  Bears Pic Nick, and Tom, Pete and ... Dick. In fact, all types try gay chat with photo upload call 08718730666 (10p/...  \n",
       "3057  You are now unsubscribed all services. Get tons of sexy babes or hunks straight to your phone! go to http://gotbabes...  \n",
       "2904          Ha. You donÛ÷t know either. I did a a clever but simple thing with pears the other day, perfect for christmas.  \n",
       "2126                                                                                 You do got a shitload of diamonds though  \n",
       "2359  Spook up your mob with a Halloween collection of a logo & pic message plus a free eerie tone, txt CARD SPOOK to 8007...  \n",
       "4677                                                                  It is a good thing I'm now getting the connection to bw  \n",
       "383                                                                                 Hey i will be late ah... Meet you at 945+  \n",
       "5441                               By the way, make sure u get train to worc foregate street not shrub hill. Have fun night x  \n",
       "210                                                 What's up bruv, hope you had a great break. Do have a rewarding semester.  "
      ]
     },
     "execution_count": 2,
     "metadata": {},
     "output_type": "execute_result"
    }
   ],
   "source": [
    "df['target'] = np.where(df['target']=='spam',1,0)\n",
    "import random\n",
    "sample = random.sample(range(1, len(df)), 10)\n",
    "df.iloc[sample]"
   ]
  },
  {
   "cell_type": "markdown",
   "metadata": {},
   "source": [
    "### Split dataset into training and testing"
   ]
  },
  {
   "cell_type": "code",
   "execution_count": 3,
   "metadata": {},
   "outputs": [
    {
     "name": "stdout",
     "output_type": "stream",
     "text": [
      "Fraction Spam: 0.13406317300789664\n",
      "\n",
      "X_train shape:  (4179,)\n"
     ]
    }
   ],
   "source": [
    "from sklearn.model_selection import train_test_split\n",
    "X_train, X_test, y_train, y_test = train_test_split(df['text'], df['target'],\n",
    "                                                    random_state=0)\n",
    "print('Fraction Spam:', df['target'].mean())\n",
    "X_train.head(10)\n",
    "print('\\nX_train shape: ', X_train.shape)"
   ]
  },
  {
   "cell_type": "markdown",
   "metadata": {},
   "source": [
    "### Set up function that will calculate performance metrics and populate comparison matrix"
   ]
  },
  {
   "cell_type": "code",
   "execution_count": 4,
   "metadata": {},
   "outputs": [],
   "source": [
    "from sklearn.metrics import (roc_auc_score, accuracy_score, recall_score, \n",
    "                             precision_score)\n",
    "\n",
    "def get_metrics(X_to_test, model, notes, y_test = y_test):\n",
    "    '''\n",
    "    Calculates model performance metrics and populates model comparison matrix\n",
    "    '''\n",
    "    model.fit(X_train_transformed, y_train)\n",
    "    predictions = model.predict(X_to_test)\n",
    "    auc  = roc_auc_score(y_test, predictions)\n",
    "    acc  = accuracy_score(y_test, predictions)\n",
    "    rec  = recall_score(y_test, predictions)\n",
    "    prec = precision_score(y_test, predictions)\n",
    "    model_name = str(model)[0:str(model).index('(')]\n",
    "    metrics.loc[len(metrics)] = [model_name, notes, acc, rec, prec, auc]"
   ]
  },
  {
   "cell_type": "markdown",
   "metadata": {},
   "source": [
    "### Set up classification specifications to be tested\n",
    "Naive-Bayes, Linear Regression and Support Vector Machine with varying parameters"
   ]
  },
  {
   "cell_type": "code",
   "execution_count": 5,
   "metadata": {},
   "outputs": [],
   "source": [
    "from sklearn.naive_bayes import MultinomialNB\n",
    "from sklearn.linear_model import LogisticRegression\n",
    "from sklearn.svm import SVC\n",
    "\n",
    "def  test_models():\n",
    "    for param in [0.01, 0.1]:\n",
    "        notes = 'alpha = ' + str(param)\n",
    "        get_metrics(X_test_transformed, MultinomialNB(alpha=param), notes)\n",
    "    for param in [10, 100]:\n",
    "        notes = 'C = ' + str(param)\n",
    "        get_metrics(X_test_transformed, LogisticRegression(C = param), notes)\n",
    "    for param in [1000, 10000]:\n",
    "        notes = 'C = ' + str(param)\n",
    "        get_metrics(X_test_transformed, SVC(C = param), notes)"
   ]
  },
  {
   "cell_type": "markdown",
   "metadata": {},
   "source": [
    "### Set up performance comparison matrix"
   ]
  },
  {
   "cell_type": "code",
   "execution_count": 6,
   "metadata": {},
   "outputs": [],
   "source": [
    "colnames = ['Model', 'Param', 'Accuracy', 'Recall', 'Precision', 'ROC AUC']\n",
    "metrics =  pd.DataFrame(columns = colnames)"
   ]
  },
  {
   "cell_type": "markdown",
   "metadata": {},
   "source": [
    "### Feature Specification 1:  Features built using CountVectorizer with default settings\n",
    "#### i.e. features are all the words in the training set, and no extra features"
   ]
  },
  {
   "cell_type": "code",
   "execution_count": 7,
   "metadata": {},
   "outputs": [
    {
     "data": {
      "text/html": [
       "<div>\n",
       "<style scoped>\n",
       "    .dataframe tbody tr th:only-of-type {\n",
       "        vertical-align: middle;\n",
       "    }\n",
       "\n",
       "    .dataframe tbody tr th {\n",
       "        vertical-align: top;\n",
       "    }\n",
       "\n",
       "    .dataframe thead th {\n",
       "        text-align: right;\n",
       "    }\n",
       "</style>\n",
       "<table border=\"1\" class=\"dataframe\">\n",
       "  <thead>\n",
       "    <tr style=\"text-align: right;\">\n",
       "      <th></th>\n",
       "      <th>Param</th>\n",
       "      <th>Accuracy</th>\n",
       "      <th>Recall</th>\n",
       "      <th>Precision</th>\n",
       "      <th>ROC AUC</th>\n",
       "    </tr>\n",
       "    <tr>\n",
       "      <th>Model</th>\n",
       "      <th></th>\n",
       "      <th></th>\n",
       "      <th></th>\n",
       "      <th></th>\n",
       "      <th></th>\n",
       "    </tr>\n",
       "  </thead>\n",
       "  <tbody>\n",
       "    <tr>\n",
       "      <th>MultinomialNB</th>\n",
       "      <td>alpha = 0.01</td>\n",
       "      <td>0.990668</td>\n",
       "      <td>0.934010</td>\n",
       "      <td>1.000000</td>\n",
       "      <td>0.967005</td>\n",
       "    </tr>\n",
       "    <tr>\n",
       "      <th>MultinomialNB</th>\n",
       "      <td>alpha = 0.1</td>\n",
       "      <td>0.992103</td>\n",
       "      <td>0.944162</td>\n",
       "      <td>1.000000</td>\n",
       "      <td>0.972081</td>\n",
       "    </tr>\n",
       "    <tr>\n",
       "      <th>LogisticRegression</th>\n",
       "      <td>C = 10</td>\n",
       "      <td>0.983489</td>\n",
       "      <td>0.888325</td>\n",
       "      <td>0.994318</td>\n",
       "      <td>0.943744</td>\n",
       "    </tr>\n",
       "    <tr>\n",
       "      <th>LogisticRegression</th>\n",
       "      <td>C = 100</td>\n",
       "      <td>0.984207</td>\n",
       "      <td>0.893401</td>\n",
       "      <td>0.994350</td>\n",
       "      <td>0.946282</td>\n",
       "    </tr>\n",
       "    <tr>\n",
       "      <th>SVC</th>\n",
       "      <td>C = 1000</td>\n",
       "      <td>0.979182</td>\n",
       "      <td>0.857868</td>\n",
       "      <td>0.994118</td>\n",
       "      <td>0.928516</td>\n",
       "    </tr>\n",
       "    <tr>\n",
       "      <th>SVC</th>\n",
       "      <td>C = 10000</td>\n",
       "      <td>0.983489</td>\n",
       "      <td>0.898477</td>\n",
       "      <td>0.983333</td>\n",
       "      <td>0.947984</td>\n",
       "    </tr>\n",
       "  </tbody>\n",
       "</table>\n",
       "</div>"
      ],
      "text/plain": [
       "                           Param  Accuracy    Recall  Precision   ROC AUC\n",
       "Model                                                                    \n",
       "MultinomialNB       alpha = 0.01  0.990668  0.934010   1.000000  0.967005\n",
       "MultinomialNB        alpha = 0.1  0.992103  0.944162   1.000000  0.972081\n",
       "LogisticRegression        C = 10  0.983489  0.888325   0.994318  0.943744\n",
       "LogisticRegression       C = 100  0.984207  0.893401   0.994350  0.946282\n",
       "SVC                     C = 1000  0.979182  0.857868   0.994118  0.928516\n",
       "SVC                    C = 10000  0.983489  0.898477   0.983333  0.947984"
      ]
     },
     "execution_count": 7,
     "metadata": {},
     "output_type": "execute_result"
    }
   ],
   "source": [
    "from sklearn.feature_extraction.text import CountVectorizer\n",
    "\n",
    "vect = CountVectorizer().fit(X_train)\n",
    "X_train_transformed = vect.transform(X_train)\n",
    "X_test_transformed = vect.transform(X_test)\n",
    "\n",
    "test_models()\n",
    "metrics.set_index('Model')"
   ]
  },
  {
   "cell_type": "markdown",
   "metadata": {},
   "source": [
    "By all metrics, the best performing algorithm with **Feature Specification 1** is the **MultinomialNB with alpha = 0.1** (henceforth **baseline**). "
   ]
  },
  {
   "cell_type": "markdown",
   "metadata": {},
   "source": [
    "### Feature Specification 2:  Weighted features using term frequency–inverse document frequency, no extra features"
   ]
  },
  {
   "cell_type": "code",
   "execution_count": 8,
   "metadata": {},
   "outputs": [
    {
     "data": {
      "text/html": [
       "<div>\n",
       "<style scoped>\n",
       "    .dataframe tbody tr th:only-of-type {\n",
       "        vertical-align: middle;\n",
       "    }\n",
       "\n",
       "    .dataframe tbody tr th {\n",
       "        vertical-align: top;\n",
       "    }\n",
       "\n",
       "    .dataframe thead th {\n",
       "        text-align: right;\n",
       "    }\n",
       "</style>\n",
       "<table border=\"1\" class=\"dataframe\">\n",
       "  <thead>\n",
       "    <tr style=\"text-align: right;\">\n",
       "      <th></th>\n",
       "      <th>Param</th>\n",
       "      <th>Accuracy</th>\n",
       "      <th>Recall</th>\n",
       "      <th>Precision</th>\n",
       "      <th>ROC AUC</th>\n",
       "    </tr>\n",
       "    <tr>\n",
       "      <th>Model</th>\n",
       "      <th></th>\n",
       "      <th></th>\n",
       "      <th></th>\n",
       "      <th></th>\n",
       "      <th></th>\n",
       "    </tr>\n",
       "  </thead>\n",
       "  <tbody>\n",
       "    <tr>\n",
       "      <th>MultinomialNB</th>\n",
       "      <td>alpha = 0.01</td>\n",
       "      <td>0.986360</td>\n",
       "      <td>0.903553</td>\n",
       "      <td>1.000000</td>\n",
       "      <td>0.951777</td>\n",
       "    </tr>\n",
       "    <tr>\n",
       "      <th>MultinomialNB</th>\n",
       "      <td>alpha = 0.1</td>\n",
       "      <td>0.985642</td>\n",
       "      <td>0.898477</td>\n",
       "      <td>1.000000</td>\n",
       "      <td>0.949239</td>\n",
       "    </tr>\n",
       "    <tr>\n",
       "      <th>LogisticRegression</th>\n",
       "      <td>C = 10</td>\n",
       "      <td>0.984207</td>\n",
       "      <td>0.893401</td>\n",
       "      <td>0.994350</td>\n",
       "      <td>0.946282</td>\n",
       "    </tr>\n",
       "    <tr>\n",
       "      <th>LogisticRegression</th>\n",
       "      <td>C = 100</td>\n",
       "      <td>0.985642</td>\n",
       "      <td>0.913706</td>\n",
       "      <td>0.983607</td>\n",
       "      <td>0.955599</td>\n",
       "    </tr>\n",
       "    <tr>\n",
       "      <th>SVC</th>\n",
       "      <td>C = 1000</td>\n",
       "      <td>0.970567</td>\n",
       "      <td>0.796954</td>\n",
       "      <td>0.993671</td>\n",
       "      <td>0.898059</td>\n",
       "    </tr>\n",
       "    <tr>\n",
       "      <th>SVC</th>\n",
       "      <td>C = 10000</td>\n",
       "      <td>0.986360</td>\n",
       "      <td>0.923858</td>\n",
       "      <td>0.978495</td>\n",
       "      <td>0.960257</td>\n",
       "    </tr>\n",
       "  </tbody>\n",
       "</table>\n",
       "</div>"
      ],
      "text/plain": [
       "                           Param  Accuracy    Recall  Precision   ROC AUC\n",
       "Model                                                                    \n",
       "MultinomialNB       alpha = 0.01  0.986360  0.903553   1.000000  0.951777\n",
       "MultinomialNB        alpha = 0.1  0.985642  0.898477   1.000000  0.949239\n",
       "LogisticRegression        C = 10  0.984207  0.893401   0.994350  0.946282\n",
       "LogisticRegression       C = 100  0.985642  0.913706   0.983607  0.955599\n",
       "SVC                     C = 1000  0.970567  0.796954   0.993671  0.898059\n",
       "SVC                    C = 10000  0.986360  0.923858   0.978495  0.960257"
      ]
     },
     "execution_count": 8,
     "metadata": {},
     "output_type": "execute_result"
    }
   ],
   "source": [
    "from sklearn.feature_extraction.text import TfidfVectorizer\n",
    "\n",
    "vect = TfidfVectorizer().fit(X_train)\n",
    "X_train_transformed = vect.transform(X_train)\n",
    "X_test_transformed = vect.transform(X_test)\n",
    "\n",
    "metrics =  pd.DataFrame(columns = colnames)\n",
    "test_models()\n",
    "metrics.set_index('Model')"
   ]
  },
  {
   "cell_type": "markdown",
   "metadata": {},
   "source": [
    "Best performing with **Feature Specification 2** are MultinomialNB with alpha = 0.1, and SVC with C = 1000. Neither is superior to baseline."
   ]
  },
  {
   "cell_type": "markdown",
   "metadata": {},
   "source": [
    "### Feature Specification 3:\n",
    "Same as Feature Specification 2, but ignoring terms that have a document frequency strictly lower than 3."
   ]
  },
  {
   "cell_type": "code",
   "execution_count": 9,
   "metadata": {},
   "outputs": [
    {
     "data": {
      "text/html": [
       "<div>\n",
       "<style scoped>\n",
       "    .dataframe tbody tr th:only-of-type {\n",
       "        vertical-align: middle;\n",
       "    }\n",
       "\n",
       "    .dataframe tbody tr th {\n",
       "        vertical-align: top;\n",
       "    }\n",
       "\n",
       "    .dataframe thead th {\n",
       "        text-align: right;\n",
       "    }\n",
       "</style>\n",
       "<table border=\"1\" class=\"dataframe\">\n",
       "  <thead>\n",
       "    <tr style=\"text-align: right;\">\n",
       "      <th></th>\n",
       "      <th>Param</th>\n",
       "      <th>Accuracy</th>\n",
       "      <th>Recall</th>\n",
       "      <th>Precision</th>\n",
       "      <th>ROC AUC</th>\n",
       "    </tr>\n",
       "    <tr>\n",
       "      <th>Model</th>\n",
       "      <th></th>\n",
       "      <th></th>\n",
       "      <th></th>\n",
       "      <th></th>\n",
       "      <th></th>\n",
       "    </tr>\n",
       "  </thead>\n",
       "  <tbody>\n",
       "    <tr>\n",
       "      <th>MultinomialNB</th>\n",
       "      <td>alpha = 0.01</td>\n",
       "      <td>0.984925</td>\n",
       "      <td>0.893401</td>\n",
       "      <td>1.000000</td>\n",
       "      <td>0.946701</td>\n",
       "    </tr>\n",
       "    <tr>\n",
       "      <th>MultinomialNB</th>\n",
       "      <td>alpha = 0.1</td>\n",
       "      <td>0.983489</td>\n",
       "      <td>0.883249</td>\n",
       "      <td>1.000000</td>\n",
       "      <td>0.941624</td>\n",
       "    </tr>\n",
       "    <tr>\n",
       "      <th>LogisticRegression</th>\n",
       "      <td>C = 10</td>\n",
       "      <td>0.984925</td>\n",
       "      <td>0.903553</td>\n",
       "      <td>0.988889</td>\n",
       "      <td>0.950941</td>\n",
       "    </tr>\n",
       "    <tr>\n",
       "      <th>LogisticRegression</th>\n",
       "      <td>C = 100</td>\n",
       "      <td>0.986360</td>\n",
       "      <td>0.918782</td>\n",
       "      <td>0.983696</td>\n",
       "      <td>0.958137</td>\n",
       "    </tr>\n",
       "    <tr>\n",
       "      <th>SVC</th>\n",
       "      <td>C = 1000</td>\n",
       "      <td>0.985642</td>\n",
       "      <td>0.898477</td>\n",
       "      <td>1.000000</td>\n",
       "      <td>0.949239</td>\n",
       "    </tr>\n",
       "    <tr>\n",
       "      <th>SVC</th>\n",
       "      <td>C = 10000</td>\n",
       "      <td>0.982053</td>\n",
       "      <td>0.918782</td>\n",
       "      <td>0.952632</td>\n",
       "      <td>0.955628</td>\n",
       "    </tr>\n",
       "  </tbody>\n",
       "</table>\n",
       "</div>"
      ],
      "text/plain": [
       "                           Param  Accuracy    Recall  Precision   ROC AUC\n",
       "Model                                                                    \n",
       "MultinomialNB       alpha = 0.01  0.984925  0.893401   1.000000  0.946701\n",
       "MultinomialNB        alpha = 0.1  0.983489  0.883249   1.000000  0.941624\n",
       "LogisticRegression        C = 10  0.984925  0.903553   0.988889  0.950941\n",
       "LogisticRegression       C = 100  0.986360  0.918782   0.983696  0.958137\n",
       "SVC                     C = 1000  0.985642  0.898477   1.000000  0.949239\n",
       "SVC                    C = 10000  0.982053  0.918782   0.952632  0.955628"
      ]
     },
     "execution_count": 9,
     "metadata": {},
     "output_type": "execute_result"
    }
   ],
   "source": [
    "vect = TfidfVectorizer(min_df=3).fit(X_train)\n",
    "ft_names = vect.get_feature_names()\n",
    "feature_names = np.array(ft_names)\n",
    "\n",
    "X_train_transformed = vect.transform(X_train)\n",
    "X_test_transformed  = vect.transform(X_test)\n",
    "\n",
    "metrics =  pd.DataFrame(columns = colnames)\n",
    "test_models()\n",
    "metrics.set_index('Model')"
   ]
  },
  {
   "cell_type": "markdown",
   "metadata": {},
   "source": [
    "With **Feature Specification 3**, recall is significantly lower for the MultinomialNB models, SVC 1000 performs better with this feature specification than the previous. No algorithm is superior to baseline."
   ]
  },
  {
   "cell_type": "markdown",
   "metadata": {},
   "source": [
    "### Explore New Features\n",
    "\n",
    "#### Find indexes of ham and spam in training set for additional feature search"
   ]
  },
  {
   "cell_type": "code",
   "execution_count": 10,
   "metadata": {},
   "outputs": [],
   "source": [
    "ham  = y_train == 0\n",
    "ham  = [i for i, x in enumerate(ham) if x]\n",
    "spam = y_train == 1\n",
    "spam = [i for i, x in enumerate(spam) if x]"
   ]
  },
  {
   "cell_type": "markdown",
   "metadata": {},
   "source": [
    "### Compare Lenghts (Number of Characters) between Ham and Spam"
   ]
  },
  {
   "cell_type": "code",
   "execution_count": 11,
   "metadata": {},
   "outputs": [
    {
     "name": "stdout",
     "output_type": "stream",
     "text": [
      "Average Length \n",
      "\n",
      "Ham:   70.34913199228437 chars \n",
      "Spam:  139.90727272727273 chars\n"
     ]
    }
   ],
   "source": [
    "doc_lengths = np.array([len(d) for d in X_train])\n",
    "mean_len_ham = np.mean(doc_lengths[ham])\n",
    "mean_len_spam = np.mean(doc_lengths[spam])\n",
    "print('Average Length', '\\n\\nHam:  ', mean_len_ham, 'chars',\n",
    "      '\\nSpam: ', mean_len_spam, 'chars')"
   ]
  },
  {
   "cell_type": "markdown",
   "metadata": {},
   "source": [
    "#### On average, spam messages are much longer\n",
    "\n",
    "### Compare Digit Counts between Ham and Spam"
   ]
  },
  {
   "cell_type": "code",
   "execution_count": 12,
   "metadata": {},
   "outputs": [
    {
     "name": "stdout",
     "output_type": "stream",
     "text": [
      "Average digit counts \n",
      "\n",
      "Ham:   0.2931937172774869 digits \n",
      "Spam:  15.841818181818182 digits\n"
     ]
    }
   ],
   "source": [
    "digits = X_train.str.findall('\\d')\n",
    "dig_counts = np.array([len(d) for d in digits])\n",
    "mean_dig_ham = np.mean(dig_counts[ham])\n",
    "mean_dig_spam = np.mean(dig_counts[spam])\n",
    "print('Average digit counts', '\\n\\nHam:  ', mean_dig_ham, 'digits',\n",
    "      '\\nSpam: ', mean_dig_spam, 'digits')"
   ]
  },
  {
   "cell_type": "markdown",
   "metadata": {},
   "source": [
    "#### On average, spam messages have a lot more digits\n",
    "\n",
    "### Compare Non-Alphanumeric Characters between Ham and Spam"
   ]
  },
  {
   "cell_type": "code",
   "execution_count": 13,
   "metadata": {},
   "outputs": [
    {
     "name": "stdout",
     "output_type": "stream",
     "text": [
      "Average non-alnum char counts \n",
      "\n",
      "Ham:   17.158170294847064 non-alnum chars \n",
      "Spam:  29.325454545454544 non-alnum chars\n"
     ]
    }
   ],
   "source": [
    "non_alnum = X_train.str.findall('\\W')\n",
    "non_alnum_counts = np.array([len(d) for d in non_alnum])\n",
    "mean_nw_ham = np.mean(non_alnum_counts[ham])\n",
    "mean_nw_spam = np.mean(non_alnum_counts[spam])\n",
    "print('Average non-alnum char counts', '\\n\\nHam:  ', mean_nw_ham, 'non-alnum chars',\n",
    "      '\\nSpam: ', mean_nw_spam, 'non-alnum chars')"
   ]
  },
  {
   "cell_type": "markdown",
   "metadata": {},
   "source": [
    "#### On average, spam messages contain more non-alphanumeric characters\n",
    "\n",
    "### Calculate the New Features for the Test Set"
   ]
  },
  {
   "cell_type": "code",
   "execution_count": 14,
   "metadata": {},
   "outputs": [],
   "source": [
    "doc_lengths_test = np.array([len(d) for d in X_test])\n",
    "\n",
    "digits = X_test.str.findall('\\d')\n",
    "dig_counts_test = np.array([len(d) for d in digits])\n",
    "\n",
    "non_alnum = X_test.str.findall('\\W')\n",
    "non_alnum_counts_test = np.array([len(d) for d in non_alnum])"
   ]
  },
  {
   "cell_type": "markdown",
   "metadata": {},
   "source": [
    "### Functions to transform original X_sets into sparse matrices with additional features"
   ]
  },
  {
   "cell_type": "code",
   "execution_count": 15,
   "metadata": {},
   "outputs": [],
   "source": [
    "from scipy.sparse import csr_matrix, hstack\n",
    "def add_features(X_sparse, new_features):\n",
    "    \"\"\"\n",
    "    Returns sparse feature matrix with new feature added.\n",
    "    new_features can be a feature or a list of features.\n",
    "    \"\"\"\n",
    "    return hstack([X_sparse, csr_matrix(new_features).T], 'csr')\n",
    "\n",
    "def transform_X(X, new_features):\n",
    "    X_vectorized  = vect.transform(X)\n",
    "    X_transformed = add_features(X_vectorized, new_features)\n",
    "    return X_transformed"
   ]
  },
  {
   "cell_type": "markdown",
   "metadata": {},
   "source": [
    "### Feature Specification 4: \n",
    "* 2 to 5 character ngrams as Features built using CountVectorizer  \n",
    "* Ignoring terms that have a document frequency strictly lower than 5  \n",
    "* Add text lenght, digit count, and non-alphanumeric character count as features  "
   ]
  },
  {
   "cell_type": "code",
   "execution_count": 16,
   "metadata": {},
   "outputs": [
    {
     "data": {
      "text/html": [
       "<div>\n",
       "<style scoped>\n",
       "    .dataframe tbody tr th:only-of-type {\n",
       "        vertical-align: middle;\n",
       "    }\n",
       "\n",
       "    .dataframe tbody tr th {\n",
       "        vertical-align: top;\n",
       "    }\n",
       "\n",
       "    .dataframe thead th {\n",
       "        text-align: right;\n",
       "    }\n",
       "</style>\n",
       "<table border=\"1\" class=\"dataframe\">\n",
       "  <thead>\n",
       "    <tr style=\"text-align: right;\">\n",
       "      <th></th>\n",
       "      <th>Param</th>\n",
       "      <th>Accuracy</th>\n",
       "      <th>Recall</th>\n",
       "      <th>Precision</th>\n",
       "      <th>ROC AUC</th>\n",
       "    </tr>\n",
       "    <tr>\n",
       "      <th>Model</th>\n",
       "      <th></th>\n",
       "      <th></th>\n",
       "      <th></th>\n",
       "      <th></th>\n",
       "      <th></th>\n",
       "    </tr>\n",
       "  </thead>\n",
       "  <tbody>\n",
       "    <tr>\n",
       "      <th>MultinomialNB</th>\n",
       "      <td>alpha = 0.01</td>\n",
       "      <td>0.991385</td>\n",
       "      <td>0.964467</td>\n",
       "      <td>0.974359</td>\n",
       "      <td>0.980143</td>\n",
       "    </tr>\n",
       "    <tr>\n",
       "      <th>MultinomialNB</th>\n",
       "      <td>alpha = 0.1</td>\n",
       "      <td>0.990668</td>\n",
       "      <td>0.969543</td>\n",
       "      <td>0.964646</td>\n",
       "      <td>0.981845</td>\n",
       "    </tr>\n",
       "    <tr>\n",
       "      <th>LogisticRegression</th>\n",
       "      <td>C = 10</td>\n",
       "      <td>0.992103</td>\n",
       "      <td>0.954315</td>\n",
       "      <td>0.989474</td>\n",
       "      <td>0.976321</td>\n",
       "    </tr>\n",
       "    <tr>\n",
       "      <th>LogisticRegression</th>\n",
       "      <td>C = 100</td>\n",
       "      <td>0.992821</td>\n",
       "      <td>0.959391</td>\n",
       "      <td>0.989529</td>\n",
       "      <td>0.978859</td>\n",
       "    </tr>\n",
       "    <tr>\n",
       "      <th>SVC</th>\n",
       "      <td>C = 1000</td>\n",
       "      <td>0.993539</td>\n",
       "      <td>0.959391</td>\n",
       "      <td>0.994737</td>\n",
       "      <td>0.979277</td>\n",
       "    </tr>\n",
       "    <tr>\n",
       "      <th>SVC</th>\n",
       "      <td>C = 10000</td>\n",
       "      <td>0.993539</td>\n",
       "      <td>0.959391</td>\n",
       "      <td>0.994737</td>\n",
       "      <td>0.979277</td>\n",
       "    </tr>\n",
       "  </tbody>\n",
       "</table>\n",
       "</div>"
      ],
      "text/plain": [
       "                           Param  Accuracy    Recall  Precision   ROC AUC\n",
       "Model                                                                    \n",
       "MultinomialNB       alpha = 0.01  0.991385  0.964467   0.974359  0.980143\n",
       "MultinomialNB        alpha = 0.1  0.990668  0.969543   0.964646  0.981845\n",
       "LogisticRegression        C = 10  0.992103  0.954315   0.989474  0.976321\n",
       "LogisticRegression       C = 100  0.992821  0.959391   0.989529  0.978859\n",
       "SVC                     C = 1000  0.993539  0.959391   0.994737  0.979277\n",
       "SVC                    C = 10000  0.993539  0.959391   0.994737  0.979277"
      ]
     },
     "execution_count": 16,
     "metadata": {},
     "output_type": "execute_result"
    }
   ],
   "source": [
    "vect = CountVectorizer(min_df=5, ngram_range=(2,5), \n",
    "                       analyzer='char_wb').fit(X_train)\n",
    "\n",
    "new_features_train = [doc_lengths, dig_counts, non_alnum_counts]\n",
    "X_train_transformed = transform_X(X_train, new_features_train)\n",
    "\n",
    "new_features_test = [doc_lengths_test, dig_counts_test, non_alnum_counts_test]\n",
    "X_test_transformed = transform_X(X_test, new_features_test)\n",
    "\n",
    "metrics =  pd.DataFrame(columns = colnames)\n",
    "test_models()\n",
    "metrics.set_index('Model')"
   ]
  },
  {
   "cell_type": "markdown",
   "metadata": {},
   "source": [
    "With **Feature Specification 4** MultinomialNB 0.1's recall improved compared to baseline, but at the cost of all other metrics, notably precission.  Both SVCs perfomed generally better under this feature specification than in previous. The SVCs perform better than baseline in all metrics with the exception of precision, which is sligthly lower. "
   ]
  },
  {
   "cell_type": "markdown",
   "metadata": {},
   "source": [
    "### Conclusion\n",
    "The best performing algorithms are the **baseline**, and the **Support Vector Machine** algorithms with **Feature Specification 4** which uses character ngrams and additional features."
   ]
  }
 ],
 "metadata": {
  "kernelspec": {
   "display_name": "Python 3",
   "language": "python",
   "name": "python3"
  },
  "language_info": {
   "codemirror_mode": {
    "name": "ipython",
    "version": 3
   },
   "file_extension": ".py",
   "mimetype": "text/x-python",
   "name": "python",
   "nbconvert_exporter": "python",
   "pygments_lexer": "ipython3",
   "version": "3.6.4"
  }
 },
 "nbformat": 4,
 "nbformat_minor": 2
}
